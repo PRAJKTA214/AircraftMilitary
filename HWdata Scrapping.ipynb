{
 "cells": [
  {
   "cell_type": "code",
   "execution_count": 1,
   "id": "10838eed-f2f1-45c9-b064-cfaeab1b7562",
   "metadata": {},
   "outputs": [
    {
     "name": "stdout",
     "output_type": "stream",
     "text": [
      "Requirement already satisfied: requests in c:\\users\\i\\anaconda3\\lib\\site-packages (2.32.3)\n",
      "Requirement already satisfied: beautifulsoup4 in c:\\users\\i\\anaconda3\\lib\\site-packages (4.12.3)\n",
      "Requirement already satisfied: pandas in c:\\users\\i\\anaconda3\\lib\\site-packages (2.2.2)\n",
      "Requirement already satisfied: charset-normalizer<4,>=2 in c:\\users\\i\\anaconda3\\lib\\site-packages (from requests) (3.3.2)\n",
      "Requirement already satisfied: idna<4,>=2.5 in c:\\users\\i\\anaconda3\\lib\\site-packages (from requests) (3.7)\n",
      "Requirement already satisfied: urllib3<3,>=1.21.1 in c:\\users\\i\\anaconda3\\lib\\site-packages (from requests) (2.2.3)\n",
      "Requirement already satisfied: certifi>=2017.4.17 in c:\\users\\i\\anaconda3\\lib\\site-packages (from requests) (2024.12.14)\n",
      "Requirement already satisfied: soupsieve>1.2 in c:\\users\\i\\anaconda3\\lib\\site-packages (from beautifulsoup4) (2.5)\n",
      "Requirement already satisfied: numpy>=1.26.0 in c:\\users\\i\\anaconda3\\lib\\site-packages (from pandas) (1.26.4)\n",
      "Requirement already satisfied: python-dateutil>=2.8.2 in c:\\users\\i\\anaconda3\\lib\\site-packages (from pandas) (2.9.0.post0)\n",
      "Requirement already satisfied: pytz>=2020.1 in c:\\users\\i\\anaconda3\\lib\\site-packages (from pandas) (2024.1)\n",
      "Requirement already satisfied: tzdata>=2022.7 in c:\\users\\i\\anaconda3\\lib\\site-packages (from pandas) (2023.3)\n",
      "Requirement already satisfied: six>=1.5 in c:\\users\\i\\anaconda3\\lib\\site-packages (from python-dateutil>=2.8.2->pandas) (1.16.0)\n"
     ]
    }
   ],
   "source": [
    "!pip install requests beautifulsoup4 pandas"
   ]
  },
  {
   "cell_type": "code",
   "execution_count": 65,
   "id": "50009a5d-1b21-4ea6-9efb-d0ae2f20f36d",
   "metadata": {},
   "outputs": [],
   "source": [
    "import pandas as pd"
   ]
  },
  {
   "cell_type": "code",
   "execution_count": 67,
   "id": "c246dba4-3604-4b2b-8ede-c32de27273d4",
   "metadata": {},
   "outputs": [],
   "source": [
    "wiki_url = \"https://en.wikipedia.org/wiki/List_of_active_Indian_military_aircraft\""
   ]
  },
  {
   "cell_type": "code",
   "execution_count": 69,
   "id": "6846c914-fba7-40ad-b858-5a96146f4d6b",
   "metadata": {},
   "outputs": [],
   "source": [
    "tables = pd.read_html(wiki_url)"
   ]
  },
  {
   "cell_type": "code",
   "execution_count": 71,
   "id": "f2e15b12-1011-4b03-8578-4f2a2a53fa26",
   "metadata": {},
   "outputs": [
    {
     "name": "stdout",
     "output_type": "stream",
     "text": [
      "Found 21 tables on the page.\n"
     ]
    }
   ],
   "source": [
    "print(f\"Found {len(tables)} tables on the page.\")"
   ]
  },
  {
   "cell_type": "code",
   "execution_count": 73,
   "id": "b1f6e794-9f42-46cf-850f-a6726da525a3",
   "metadata": {},
   "outputs": [],
   "source": [
    "df_aircraft = tables[0]"
   ]
  },
  {
   "cell_type": "code",
   "execution_count": 75,
   "id": "1fc1480f-627a-4b45-8174-ada86851f6b0",
   "metadata": {},
   "outputs": [
    {
     "name": "stdout",
     "output_type": "stream",
     "text": [
      "          Aircraft          Origin                Type         Variant  \\\n",
      "   Combat Aircraft Combat Aircraft     Combat Aircraft Combat Aircraft   \n",
      "0  Dassault Rafale          France           Multirole              DH   \n",
      "1  Dassault Rafale          France           Multirole              EH   \n",
      "2        HAL Tejas           India           Multirole            Mk.1   \n",
      "3        HAL Tejas           India  Conversion trainer    Mk.1 Trainer   \n",
      "4        HAL Tejas           India           Multirole           Mk.1A   \n",
      "\n",
      "       In service                                   Notes  \n",
      "  Combat Aircraft                         Combat Aircraft  \n",
      "0            8[1]                                     NaN  \n",
      "1           28[1]                                     NaN  \n",
      "2        31[2][3]                                     NaN  \n",
      "3         4[4][5]  Used for training; 14 more on order[6]  \n",
      "4             NaN     73 on order, 97 more approved[6][7]  \n"
     ]
    }
   ],
   "source": [
    "print(df_aircraft.head())"
   ]
  },
  {
   "cell_type": "code",
   "execution_count": 77,
   "id": "f8216688-4c7f-4143-8dd9-287ad5394627",
   "metadata": {},
   "outputs": [],
   "source": [
    "df_aircraft.to_csv('indian_military_aircraft.csv', index=False)"
   ]
  },
  {
   "cell_type": "code",
   "execution_count": null,
   "id": "e12a14c4-d50d-42e3-8066-acbf1705c7ee",
   "metadata": {},
   "outputs": [],
   "source": []
  }
 ],
 "metadata": {
  "kernelspec": {
   "display_name": "Python [conda env:base] *",
   "language": "python",
   "name": "conda-base-py"
  },
  "language_info": {
   "codemirror_mode": {
    "name": "ipython",
    "version": 3
   },
   "file_extension": ".py",
   "mimetype": "text/x-python",
   "name": "python",
   "nbconvert_exporter": "python",
   "pygments_lexer": "ipython3",
   "version": "3.12.7"
  }
 },
 "nbformat": 4,
 "nbformat_minor": 5
}
